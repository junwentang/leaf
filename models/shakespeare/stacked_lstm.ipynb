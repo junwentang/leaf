{
 "cells": [
  {
   "cell_type": "code",
   "execution_count": 1,
   "metadata": {},
   "outputs": [
    {
     "ename": "ModuleNotFoundError",
     "evalue": "No module named 'tensorflow'",
     "output_type": "error",
     "traceback": [
      "\u001b[1;31m---------------------------------------------------------------------------\u001b[0m",
      "\u001b[1;31mModuleNotFoundError\u001b[0m                       Traceback (most recent call last)",
      "\u001b[1;32m<ipython-input-1-e35c3e951d49>\u001b[0m in \u001b[0;36m<module>\u001b[1;34m\u001b[0m\n\u001b[0;32m      2\u001b[0m \u001b[1;32mimport\u001b[0m \u001b[0mos\u001b[0m\u001b[1;33m\u001b[0m\u001b[1;33m\u001b[0m\u001b[0m\n\u001b[0;32m      3\u001b[0m \u001b[1;32mimport\u001b[0m \u001b[0msys\u001b[0m\u001b[1;33m\u001b[0m\u001b[1;33m\u001b[0m\u001b[0m\n\u001b[1;32m----> 4\u001b[1;33m \u001b[1;32mimport\u001b[0m \u001b[0mtensorflow\u001b[0m \u001b[1;32mas\u001b[0m \u001b[0mtf\u001b[0m\u001b[1;33m\u001b[0m\u001b[1;33m\u001b[0m\u001b[0m\n\u001b[0m\u001b[0;32m      5\u001b[0m \u001b[1;33m\u001b[0m\u001b[0m\n\u001b[0;32m      6\u001b[0m \u001b[1;32mfrom\u001b[0m \u001b[0mtensorflow\u001b[0m\u001b[1;33m.\u001b[0m\u001b[0mcontrib\u001b[0m \u001b[1;32mimport\u001b[0m \u001b[0mrnn\u001b[0m\u001b[1;33m\u001b[0m\u001b[1;33m\u001b[0m\u001b[0m\n",
      "\u001b[1;31mModuleNotFoundError\u001b[0m: No module named 'tensorflow'"
     ]
    }
   ],
   "source": [
    "import numpy as np\n",
    "import os\n",
    "import sys\n",
    "import tensorflow as tf\n",
    "\n",
    "from tensorflow.contrib import rnn\n",
    "\n",
    "from model import Model\n",
    "from utils.language_utils import letter_to_vec, word_to_indices\n",
    "\n",
    "class ClientModel(Model):\n",
    "    def __init__(self, seed, lr, seq_len, num_classes, n_hidden):\n",
    "        self.seq_len = seq_len\n",
    "        self.num_classes = num_classes\n",
    "        self.n_hidden = n_hidden\n",
    "        super(ClientModel, self).__init__(seed, lr)\n",
    "\n",
    "    def create_model(self):\n",
    "        features = tf.placeholder(tf.int32, [None, self.seq_len])\n",
    "        embedding = tf.get_variable(\"embedding\", [self.num_classes, 8])\n",
    "        x = tf.nn.embedding_lookup(embedding, features)\n",
    "        labels = tf.placeholder(tf.int32, [None, self.num_classes])\n",
    "        \n",
    "        stacked_lstm = tf.contrib.rnn.MultiRNNCell(\n",
    "            [rnn.BasicLSTMCell(self.n_hidden) for _ in range(2)])\n",
    "        outputs, _ = tf.nn.dynamic_rnn(stacked_lstm, x, dtype=tf.float32)\n",
    "        pred = tf.layers.dense(inputs=outputs[:,-1,:], units=self.num_classes)\n",
    "        \n",
    "        loss = tf.reduce_mean(\n",
    "            tf.nn.softmax_cross_entropy_with_logits_v2(logits=pred, labels=labels))\n",
    "        train_op = self.optimizer.minimize(\n",
    "            loss=loss,\n",
    "            global_step=tf.train.get_global_step())\n",
    "\n",
    "        correct_pred = tf.equal(tf.argmax(pred, 1), tf.argmax(labels, 1))\n",
    "        eval_metric_ops = tf.count_nonzero(correct_pred)\n",
    "\n",
    "        return features, labels, train_op, eval_metric_ops, loss\n",
    "\n",
    "    def process_x(self, raw_x_batch):\n",
    "        x_batch = [word_to_indices(word) for word in raw_x_batch]\n",
    "        x_batch = np.array(x_batch)\n",
    "        return x_batch\n",
    "\n",
    "    def process_y(self, raw_y_batch):\n",
    "        y_batch = [letter_to_vec(c) for c in raw_y_batch]\n",
    "        return y_batch\n"
   ]
  },
  {
   "cell_type": "code",
   "execution_count": null,
   "metadata": {},
   "outputs": [],
   "source": []
  }
 ],
 "metadata": {
  "anaconda-cloud": {},
  "kernelspec": {
   "display_name": "Python 3",
   "language": "python",
   "name": "python3"
  },
  "language_info": {
   "codemirror_mode": {
    "name": "ipython",
    "version": 3
   },
   "file_extension": ".py",
   "mimetype": "text/x-python",
   "name": "python",
   "nbconvert_exporter": "python",
   "pygments_lexer": "ipython3",
   "version": "3.7.4"
  }
 },
 "nbformat": 4,
 "nbformat_minor": 1
}
